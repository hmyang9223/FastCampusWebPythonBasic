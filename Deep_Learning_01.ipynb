{
  "nbformat": 4,
  "nbformat_minor": 0,
  "metadata": {
    "colab": {
      "name": "Deep_Learning_01.ipynb",
      "provenance": [],
      "collapsed_sections": [],
      "authorship_tag": "ABX9TyPKUK5JNG+LQJe1YqxB2lDp",
      "include_colab_link": true
    },
    "kernelspec": {
      "name": "python3",
      "display_name": "Python 3"
    }
  },
  "cells": [
    {
      "cell_type": "markdown",
      "metadata": {
        "id": "view-in-github",
        "colab_type": "text"
      },
      "source": [
        "<a href=\"https://colab.research.google.com/github/hmyang9223/FastCampusWebPythonBasic/blob/master/Deep_Learning_01.ipynb\" target=\"_parent\"><img src=\"https://colab.research.google.com/assets/colab-badge.svg\" alt=\"Open In Colab\"/></a>"
      ]
    },
    {
      "cell_type": "markdown",
      "metadata": {
        "id": "91bCV4VKbEnX"
      },
      "source": [
        "Numpy 는 수치 계산용 라이브러리이다. - 행렬을 조작하기 위한 편리한 메서드가 많이 준비되 있음\r\n",
        "\r\n",
        "Matplotlib 은 그래프를 그려주는 라이브러리 이다. - 실험 결과를 시각화하거나 딥러닝 실행 과정의 중간 데이터를 시각적으로 눈으로 확인할 수 있음"
      ]
    }
  ]
}